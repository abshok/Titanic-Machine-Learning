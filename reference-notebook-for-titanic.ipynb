{
 "cells": [
  {
   "cell_type": "markdown",
   "id": "03456b21",
   "metadata": {
    "papermill": {
     "duration": 0.006684,
     "end_time": "2023-03-30T18:04:33.878945",
     "exception": false,
     "start_time": "2023-03-30T18:04:33.872261",
     "status": "completed"
    },
    "tags": []
   },
   "source": [
    "Simple methode (For reference)"
   ]
  },
  {
   "cell_type": "code",
   "execution_count": 1,
   "id": "28d4143c",
   "metadata": {
    "execution": {
     "iopub.execute_input": "2023-03-30T18:04:33.892026Z",
     "iopub.status.busy": "2023-03-30T18:04:33.891569Z",
     "iopub.status.idle": "2023-03-30T18:04:33.905994Z",
     "shell.execute_reply": "2023-03-30T18:04:33.904642Z"
    },
    "papermill": {
     "duration": 0.025566,
     "end_time": "2023-03-30T18:04:33.910170",
     "exception": false,
     "start_time": "2023-03-30T18:04:33.884604",
     "status": "completed"
    },
    "tags": []
   },
   "outputs": [
    {
     "name": "stdout",
     "output_type": "stream",
     "text": [
      "/kaggle/input/titanic/train.csv\n",
      "/kaggle/input/titanic/test.csv\n",
      "/kaggle/input/titanic/gender_submission.csv\n"
     ]
    }
   ],
   "source": [
    "# This Python 3 environment comes with many helpful analytics libraries installed\n",
    "# It is defined by the kaggle/python Docker image: https://github.com/kaggle/docker-python\n",
    "# For example, here's several helpful packages to load\n",
    "\n",
    "import numpy as np # linear algebra\n",
    "import pandas as pd # data processing, CSV file I/O (e.g. pd.read_csv)\n",
    "\n",
    "# Input data files are available in the read-only \"../input/\" directory\n",
    "# For example, running this (by clicking run or pressing Shift+Enter) will list all files under the input directory\n",
    "\n",
    "import os\n",
    "for dirname, _, filenames in os.walk('/kaggle/input'):\n",
    "    for filename in filenames:\n",
    "        print(os.path.join(dirname, filename))\n",
    "\n",
    "# You can write up to 20GB to the current directory (/kaggle/working/) that gets preserved as output when you create a version using \"Save & Run All\" \n",
    "# You can also write temporary files to /kaggle/temp/, but they won't be saved outside of the current session"
   ]
  },
  {
   "cell_type": "markdown",
   "id": "e72f9bd4",
   "metadata": {
    "papermill": {
     "duration": 0.005141,
     "end_time": "2023-03-30T18:04:33.921514",
     "exception": false,
     "start_time": "2023-03-30T18:04:33.916373",
     "status": "completed"
    },
    "tags": []
   },
   "source": [
    "Import Libraries"
   ]
  },
  {
   "cell_type": "code",
   "execution_count": 2,
   "id": "4f222993",
   "metadata": {
    "execution": {
     "iopub.execute_input": "2023-03-30T18:04:33.934252Z",
     "iopub.status.busy": "2023-03-30T18:04:33.933421Z",
     "iopub.status.idle": "2023-03-30T18:04:35.082796Z",
     "shell.execute_reply": "2023-03-30T18:04:35.081616Z"
    },
    "papermill": {
     "duration": 1.158806,
     "end_time": "2023-03-30T18:04:35.085506",
     "exception": false,
     "start_time": "2023-03-30T18:04:33.926700",
     "status": "completed"
    },
    "tags": []
   },
   "outputs": [],
   "source": [
    "import pandas as pd\n",
    "from sklearn.model_selection import train_test_split\n",
    "from sklearn.preprocessing import LabelEncoder\n",
    "from sklearn.tree import DecisionTreeClassifier\n",
    "from sklearn.metrics import accuracy_score"
   ]
  },
  {
   "cell_type": "markdown",
   "id": "f7ff9260",
   "metadata": {
    "papermill": {
     "duration": 0.005189,
     "end_time": "2023-03-30T18:04:35.096287",
     "exception": false,
     "start_time": "2023-03-30T18:04:35.091098",
     "status": "completed"
    },
    "tags": []
   },
   "source": [
    "Load Data"
   ]
  },
  {
   "cell_type": "code",
   "execution_count": 3,
   "id": "1156e47e",
   "metadata": {
    "execution": {
     "iopub.execute_input": "2023-03-30T18:04:35.108931Z",
     "iopub.status.busy": "2023-03-30T18:04:35.108484Z",
     "iopub.status.idle": "2023-03-30T18:04:35.133737Z",
     "shell.execute_reply": "2023-03-30T18:04:35.132716Z"
    },
    "papermill": {
     "duration": 0.034532,
     "end_time": "2023-03-30T18:04:35.136212",
     "exception": false,
     "start_time": "2023-03-30T18:04:35.101680",
     "status": "completed"
    },
    "tags": []
   },
   "outputs": [],
   "source": [
    "train_data = pd.read_csv('/kaggle/input/titanic/train.csv')\n",
    "test_data = pd.read_csv('/kaggle/input/titanic/test.csv')"
   ]
  },
  {
   "cell_type": "markdown",
   "id": "311bf374",
   "metadata": {
    "papermill": {
     "duration": 0.004961,
     "end_time": "2023-03-30T18:04:35.146509",
     "exception": false,
     "start_time": "2023-03-30T18:04:35.141548",
     "status": "completed"
    },
    "tags": []
   },
   "source": [
    "Drop Irrelevant Features"
   ]
  },
  {
   "cell_type": "code",
   "execution_count": 4,
   "id": "3039b324",
   "metadata": {
    "execution": {
     "iopub.execute_input": "2023-03-30T18:04:35.159065Z",
     "iopub.status.busy": "2023-03-30T18:04:35.158290Z",
     "iopub.status.idle": "2023-03-30T18:04:35.172025Z",
     "shell.execute_reply": "2023-03-30T18:04:35.170983Z"
    },
    "papermill": {
     "duration": 0.022504,
     "end_time": "2023-03-30T18:04:35.174170",
     "exception": false,
     "start_time": "2023-03-30T18:04:35.151666",
     "status": "completed"
    },
    "tags": []
   },
   "outputs": [],
   "source": [
    "train_data.drop(['PassengerId', 'Name', 'Ticket', 'Cabin'], axis=1, inplace=True)\n",
    "test_data.drop(['PassengerId', 'Name', 'Ticket', 'Cabin'], axis=1, inplace=True)"
   ]
  },
  {
   "cell_type": "markdown",
   "id": "136c64d5",
   "metadata": {
    "papermill": {
     "duration": 0.004967,
     "end_time": "2023-03-30T18:04:35.184604",
     "exception": false,
     "start_time": "2023-03-30T18:04:35.179637",
     "status": "completed"
    },
    "tags": []
   },
   "source": [
    "Fill missing values with the median (for numerical features) or mode (for categorical features)"
   ]
  },
  {
   "cell_type": "code",
   "execution_count": 5,
   "id": "00637c3b",
   "metadata": {
    "execution": {
     "iopub.execute_input": "2023-03-30T18:04:35.196975Z",
     "iopub.status.busy": "2023-03-30T18:04:35.196242Z",
     "iopub.status.idle": "2023-03-30T18:04:35.211908Z",
     "shell.execute_reply": "2023-03-30T18:04:35.210969Z"
    },
    "papermill": {
     "duration": 0.024685,
     "end_time": "2023-03-30T18:04:35.214331",
     "exception": false,
     "start_time": "2023-03-30T18:04:35.189646",
     "status": "completed"
    },
    "tags": []
   },
   "outputs": [],
   "source": [
    "train_data['Age'].fillna(train_data['Age'].median(), inplace=True)\n",
    "train_data['Embarked'].fillna(train_data['Embarked'].mode()[0], inplace=True)\n",
    "test_data['Age'].fillna(test_data['Age'].median(), inplace=True)\n",
    "test_data['Embarked'].fillna(test_data['Embarked'].mode()[0], inplace=True)\n",
    "test_data['Fare'].fillna(test_data['Fare'].median(), inplace=True)"
   ]
  },
  {
   "cell_type": "markdown",
   "id": "fe09d5cb",
   "metadata": {
    "papermill": {
     "duration": 0.004994,
     "end_time": "2023-03-30T18:04:35.224794",
     "exception": false,
     "start_time": "2023-03-30T18:04:35.219800",
     "status": "completed"
    },
    "tags": []
   },
   "source": [
    "Encode categorical features as numerical values"
   ]
  },
  {
   "cell_type": "code",
   "execution_count": 6,
   "id": "c9d7099e",
   "metadata": {
    "execution": {
     "iopub.execute_input": "2023-03-30T18:04:35.237295Z",
     "iopub.status.busy": "2023-03-30T18:04:35.236863Z",
     "iopub.status.idle": "2023-03-30T18:04:35.245764Z",
     "shell.execute_reply": "2023-03-30T18:04:35.244508Z"
    },
    "papermill": {
     "duration": 0.018132,
     "end_time": "2023-03-30T18:04:35.248183",
     "exception": false,
     "start_time": "2023-03-30T18:04:35.230051",
     "status": "completed"
    },
    "tags": []
   },
   "outputs": [],
   "source": [
    "le = LabelEncoder()\n",
    "train_data['Sex'] = le.fit_transform(train_data['Sex'])\n",
    "train_data['Embarked'] = le.fit_transform(train_data['Embarked'])\n",
    "test_data['Sex'] = le.fit_transform(test_data['Sex'])\n",
    "test_data['Embarked'] = le.fit_transform(test_data['Embarked'])"
   ]
  },
  {
   "cell_type": "markdown",
   "id": "c093f778",
   "metadata": {
    "papermill": {
     "duration": 0.005001,
     "end_time": "2023-03-30T18:04:35.258534",
     "exception": false,
     "start_time": "2023-03-30T18:04:35.253533",
     "status": "completed"
    },
    "tags": []
   },
   "source": [
    "Split the data into training and testing sets"
   ]
  },
  {
   "cell_type": "code",
   "execution_count": 7,
   "id": "02e84a2a",
   "metadata": {
    "execution": {
     "iopub.execute_input": "2023-03-30T18:04:35.271184Z",
     "iopub.status.busy": "2023-03-30T18:04:35.270439Z",
     "iopub.status.idle": "2023-03-30T18:04:35.279913Z",
     "shell.execute_reply": "2023-03-30T18:04:35.279119Z"
    },
    "papermill": {
     "duration": 0.018303,
     "end_time": "2023-03-30T18:04:35.281951",
     "exception": false,
     "start_time": "2023-03-30T18:04:35.263648",
     "status": "completed"
    },
    "tags": []
   },
   "outputs": [],
   "source": [
    "X = train_data.drop('Survived', axis=1)\n",
    "y = train_data['Survived']\n",
    "X_train, X_test, y_train, y_test = train_test_split(X, y, test_size=0.2, random_state=42)"
   ]
  },
  {
   "cell_type": "markdown",
   "id": "4616d4b5",
   "metadata": {
    "papermill": {
     "duration": 0.005018,
     "end_time": "2023-03-30T18:04:35.292389",
     "exception": false,
     "start_time": "2023-03-30T18:04:35.287371",
     "status": "completed"
    },
    "tags": []
   },
   "source": [
    "Train a decision tree classifier on the training set"
   ]
  },
  {
   "cell_type": "code",
   "execution_count": 8,
   "id": "5723839c",
   "metadata": {
    "execution": {
     "iopub.execute_input": "2023-03-30T18:04:35.304973Z",
     "iopub.status.busy": "2023-03-30T18:04:35.303827Z",
     "iopub.status.idle": "2023-03-30T18:04:35.321433Z",
     "shell.execute_reply": "2023-03-30T18:04:35.320335Z"
    },
    "papermill": {
     "duration": 0.026193,
     "end_time": "2023-03-30T18:04:35.323604",
     "exception": false,
     "start_time": "2023-03-30T18:04:35.297411",
     "status": "completed"
    },
    "tags": []
   },
   "outputs": [
    {
     "data": {
      "text/plain": [
       "DecisionTreeClassifier()"
      ]
     },
     "execution_count": 8,
     "metadata": {},
     "output_type": "execute_result"
    }
   ],
   "source": [
    "clf = DecisionTreeClassifier()\n",
    "clf.fit(X_train, y_train)"
   ]
  },
  {
   "cell_type": "markdown",
   "id": "71ed06cf",
   "metadata": {
    "papermill": {
     "duration": 0.005043,
     "end_time": "2023-03-30T18:04:35.333960",
     "exception": false,
     "start_time": "2023-03-30T18:04:35.328917",
     "status": "completed"
    },
    "tags": []
   },
   "source": [
    "Make predictions on the testing set"
   ]
  },
  {
   "cell_type": "code",
   "execution_count": 9,
   "id": "d2f295a9",
   "metadata": {
    "execution": {
     "iopub.execute_input": "2023-03-30T18:04:35.345994Z",
     "iopub.status.busy": "2023-03-30T18:04:35.345604Z",
     "iopub.status.idle": "2023-03-30T18:04:35.352986Z",
     "shell.execute_reply": "2023-03-30T18:04:35.351859Z"
    },
    "papermill": {
     "duration": 0.015817,
     "end_time": "2023-03-30T18:04:35.355043",
     "exception": false,
     "start_time": "2023-03-30T18:04:35.339226",
     "status": "completed"
    },
    "tags": []
   },
   "outputs": [],
   "source": [
    "y_pred = clf.predict(X_test)"
   ]
  },
  {
   "cell_type": "markdown",
   "id": "371c419a",
   "metadata": {
    "papermill": {
     "duration": 0.005533,
     "end_time": "2023-03-30T18:04:35.365780",
     "exception": false,
     "start_time": "2023-03-30T18:04:35.360247",
     "status": "completed"
    },
    "tags": []
   },
   "source": [
    "Calculate the accuracy of the model"
   ]
  },
  {
   "cell_type": "code",
   "execution_count": 10,
   "id": "7bdbd6a9",
   "metadata": {
    "execution": {
     "iopub.execute_input": "2023-03-30T18:04:35.378189Z",
     "iopub.status.busy": "2023-03-30T18:04:35.377471Z",
     "iopub.status.idle": "2023-03-30T18:04:35.384415Z",
     "shell.execute_reply": "2023-03-30T18:04:35.382921Z"
    },
    "papermill": {
     "duration": 0.015563,
     "end_time": "2023-03-30T18:04:35.386622",
     "exception": false,
     "start_time": "2023-03-30T18:04:35.371059",
     "status": "completed"
    },
    "tags": []
   },
   "outputs": [
    {
     "name": "stdout",
     "output_type": "stream",
     "text": [
      "Accuracy: 0.770949720670391\n"
     ]
    }
   ],
   "source": [
    "accuracy = accuracy_score(y_test, y_pred)\n",
    "print('Accuracy:', accuracy)"
   ]
  },
  {
   "cell_type": "markdown",
   "id": "1b37244f",
   "metadata": {
    "papermill": {
     "duration": 0.005085,
     "end_time": "2023-03-30T18:04:35.397314",
     "exception": false,
     "start_time": "2023-03-30T18:04:35.392229",
     "status": "completed"
    },
    "tags": []
   },
   "source": [
    "Make predictions on the test data"
   ]
  },
  {
   "cell_type": "code",
   "execution_count": 11,
   "id": "c3468f8a",
   "metadata": {
    "execution": {
     "iopub.execute_input": "2023-03-30T18:04:35.410358Z",
     "iopub.status.busy": "2023-03-30T18:04:35.409923Z",
     "iopub.status.idle": "2023-03-30T18:04:35.417855Z",
     "shell.execute_reply": "2023-03-30T18:04:35.416636Z"
    },
    "papermill": {
     "duration": 0.016948,
     "end_time": "2023-03-30T18:04:35.420011",
     "exception": false,
     "start_time": "2023-03-30T18:04:35.403063",
     "status": "completed"
    },
    "tags": []
   },
   "outputs": [],
   "source": [
    "test_pred = clf.predict(test_data)"
   ]
  },
  {
   "cell_type": "markdown",
   "id": "7d387756",
   "metadata": {
    "papermill": {
     "duration": 0.004962,
     "end_time": "2023-03-30T18:04:35.430136",
     "exception": false,
     "start_time": "2023-03-30T18:04:35.425174",
     "status": "completed"
    },
    "tags": []
   },
   "source": [
    "Save the predictions to a CSV file"
   ]
  },
  {
   "cell_type": "code",
   "execution_count": 12,
   "id": "27124a17",
   "metadata": {
    "execution": {
     "iopub.execute_input": "2023-03-30T18:04:35.442217Z",
     "iopub.status.busy": "2023-03-30T18:04:35.441817Z",
     "iopub.status.idle": "2023-03-30T18:04:35.456332Z",
     "shell.execute_reply": "2023-03-30T18:04:35.455512Z"
    },
    "papermill": {
     "duration": 0.023522,
     "end_time": "2023-03-30T18:04:35.458744",
     "exception": false,
     "start_time": "2023-03-30T18:04:35.435222",
     "status": "completed"
    },
    "tags": []
   },
   "outputs": [],
   "source": [
    "output = pd.DataFrame({'PassengerId': pd.read_csv('/kaggle/input/titanic/test.csv')['PassengerId'], 'Survived': test_pred})\n",
    "output.to_csv('submission.csv', index=False)"
   ]
  }
 ],
 "metadata": {
  "kernelspec": {
   "display_name": "Python 3",
   "language": "python",
   "name": "python3"
  },
  "language_info": {
   "codemirror_mode": {
    "name": "ipython",
    "version": 3
   },
   "file_extension": ".py",
   "mimetype": "text/x-python",
   "name": "python",
   "nbconvert_exporter": "python",
   "pygments_lexer": "ipython3",
   "version": "3.7.12"
  },
  "papermill": {
   "default_parameters": {},
   "duration": 12.836581,
   "end_time": "2023-03-30T18:04:36.184679",
   "environment_variables": {},
   "exception": null,
   "input_path": "__notebook__.ipynb",
   "output_path": "__notebook__.ipynb",
   "parameters": {},
   "start_time": "2023-03-30T18:04:23.348098",
   "version": "2.4.0"
  }
 },
 "nbformat": 4,
 "nbformat_minor": 5
}
